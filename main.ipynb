{
 "metadata": {
  "language_info": {
   "codemirror_mode": {
    "name": "ipython",
    "version": 3
   },
   "file_extension": ".py",
   "mimetype": "text/x-python",
   "name": "python",
   "nbconvert_exporter": "python",
   "pygments_lexer": "ipython3",
   "version": 3
  },
  "orig_nbformat": 2,
  "kernelspec": {
   "name": "python_defaultSpec_1596956367856",
   "display_name": "Python 3.8.2 64-bit ('COVID_Predictor': venv)"
  }
 },
 "nbformat": 4,
 "nbformat_minor": 2,
 "cells": [
  {
   "cell_type": "code",
   "execution_count": 1,
   "metadata": {},
   "outputs": [],
   "source": [
    "import pandas as pd\n",
    "import numpy as np"
   ]
  },
  {
   "cell_type": "markdown",
   "metadata": {},
   "source": [
    "### Brief Look at Data"
   ]
  },
  {
   "cell_type": "code",
   "execution_count": 2,
   "metadata": {},
   "outputs": [
    {
     "output_type": "execute_result",
     "data": {
      "text/plain": "   age  throat_pain  breathing_problem  body_temp  headache  bodyache  \\\n0   80            1                  0         64         0        -1   \n1   23            0                  0         86         1         0   \n2   59            1                  0         71         1         1   \n3   57            1                  1         66         0        -1   \n4   57            1                 -1         83         1        -1   \n\n   infection_prob  \n0               0  \n1               1  \n2               1  \n3               0  \n4               1  ",
      "text/html": "<div>\n<style scoped>\n    .dataframe tbody tr th:only-of-type {\n        vertical-align: middle;\n    }\n\n    .dataframe tbody tr th {\n        vertical-align: top;\n    }\n\n    .dataframe thead th {\n        text-align: right;\n    }\n</style>\n<table border=\"1\" class=\"dataframe\">\n  <thead>\n    <tr style=\"text-align: right;\">\n      <th></th>\n      <th>age</th>\n      <th>throat_pain</th>\n      <th>breathing_problem</th>\n      <th>body_temp</th>\n      <th>headache</th>\n      <th>bodyache</th>\n      <th>infection_prob</th>\n    </tr>\n  </thead>\n  <tbody>\n    <tr>\n      <th>0</th>\n      <td>80</td>\n      <td>1</td>\n      <td>0</td>\n      <td>64</td>\n      <td>0</td>\n      <td>-1</td>\n      <td>0</td>\n    </tr>\n    <tr>\n      <th>1</th>\n      <td>23</td>\n      <td>0</td>\n      <td>0</td>\n      <td>86</td>\n      <td>1</td>\n      <td>0</td>\n      <td>1</td>\n    </tr>\n    <tr>\n      <th>2</th>\n      <td>59</td>\n      <td>1</td>\n      <td>0</td>\n      <td>71</td>\n      <td>1</td>\n      <td>1</td>\n      <td>1</td>\n    </tr>\n    <tr>\n      <th>3</th>\n      <td>57</td>\n      <td>1</td>\n      <td>1</td>\n      <td>66</td>\n      <td>0</td>\n      <td>-1</td>\n      <td>0</td>\n    </tr>\n    <tr>\n      <th>4</th>\n      <td>57</td>\n      <td>1</td>\n      <td>-1</td>\n      <td>83</td>\n      <td>1</td>\n      <td>-1</td>\n      <td>1</td>\n    </tr>\n  </tbody>\n</table>\n</div>"
     },
     "metadata": {},
     "execution_count": 2
    }
   ],
   "source": [
    "data = pd.read_csv('covid_data.csv')\n",
    "data.head()\n",
    "\n",
    "# 1-> Above 50%, 0-> Below 50% (Infection Probability)\n",
    "# -1-> Little, 0-> Mediocre, 1-> Severe"
   ]
  },
  {
   "cell_type": "markdown",
   "metadata": {},
   "source": [
    "### Data for Model"
   ]
  },
  {
   "cell_type": "code",
   "execution_count": 3,
   "metadata": {},
   "outputs": [
    {
     "output_type": "execute_result",
     "data": {
      "text/plain": "      age  throat_pain  breathing_problem  body_temp  headache  bodyache\n2910   69            1                  1         88         0        -1\n2911   27            0                  1         40         1         1\n2912   58            1                 -1         89         0         0\n2913   81            1                 -1         88         1        -1\n2914   69            0                 -1         38         1        -1",
      "text/html": "<div>\n<style scoped>\n    .dataframe tbody tr th:only-of-type {\n        vertical-align: middle;\n    }\n\n    .dataframe tbody tr th {\n        vertical-align: top;\n    }\n\n    .dataframe thead th {\n        text-align: right;\n    }\n</style>\n<table border=\"1\" class=\"dataframe\">\n  <thead>\n    <tr style=\"text-align: right;\">\n      <th></th>\n      <th>age</th>\n      <th>throat_pain</th>\n      <th>breathing_problem</th>\n      <th>body_temp</th>\n      <th>headache</th>\n      <th>bodyache</th>\n    </tr>\n  </thead>\n  <tbody>\n    <tr>\n      <th>2910</th>\n      <td>69</td>\n      <td>1</td>\n      <td>1</td>\n      <td>88</td>\n      <td>0</td>\n      <td>-1</td>\n    </tr>\n    <tr>\n      <th>2911</th>\n      <td>27</td>\n      <td>0</td>\n      <td>1</td>\n      <td>40</td>\n      <td>1</td>\n      <td>1</td>\n    </tr>\n    <tr>\n      <th>2912</th>\n      <td>58</td>\n      <td>1</td>\n      <td>-1</td>\n      <td>89</td>\n      <td>0</td>\n      <td>0</td>\n    </tr>\n    <tr>\n      <th>2913</th>\n      <td>81</td>\n      <td>1</td>\n      <td>-1</td>\n      <td>88</td>\n      <td>1</td>\n      <td>-1</td>\n    </tr>\n    <tr>\n      <th>2914</th>\n      <td>69</td>\n      <td>0</td>\n      <td>-1</td>\n      <td>38</td>\n      <td>1</td>\n      <td>-1</td>\n    </tr>\n  </tbody>\n</table>\n</div>"
     },
     "metadata": {},
     "execution_count": 3
    }
   ],
   "source": [
    "features = data.iloc[:,0:-1]\n",
    "labels = data['infection_prob']\n",
    "features.tail()"
   ]
  },
  {
   "cell_type": "markdown",
   "metadata": {},
   "source": [
    "### Model Imports and Training"
   ]
  },
  {
   "cell_type": "code",
   "execution_count": 4,
   "metadata": {},
   "outputs": [],
   "source": [
    "from sklearn.linear_model import LogisticRegression\n",
    "from sklearn.model_selection import train_test_split"
   ]
  },
  {
   "cell_type": "code",
   "execution_count": 5,
   "metadata": {},
   "outputs": [],
   "source": [
    "X_train, X_test, y_train, y_test = train_test_split(features, labels, test_size=0.2, random_state=42)"
   ]
  },
  {
   "cell_type": "markdown",
   "metadata": {},
   "source": [
    "### Model Training and Prediction"
   ]
  },
  {
   "cell_type": "code",
   "execution_count": 6,
   "metadata": {},
   "outputs": [
    {
     "output_type": "execute_result",
     "data": {
      "text/plain": "LogisticRegression()"
     },
     "metadata": {},
     "execution_count": 6
    }
   ],
   "source": [
    "model = LogisticRegression()\n",
    "model.fit(X_train, y_train)"
   ]
  },
  {
   "cell_type": "code",
   "execution_count": 7,
   "metadata": {},
   "outputs": [
    {
     "output_type": "execute_result",
     "data": {
      "text/plain": "0.5008576329331046"
     },
     "metadata": {},
     "execution_count": 7
    }
   ],
   "source": [
    "model.score(X_test, y_test) # Accuracy is 50% ;("
   ]
  },
  {
   "cell_type": "code",
   "execution_count": 8,
   "metadata": {},
   "outputs": [
    {
     "output_type": "execute_result",
     "data": {
      "text/plain": "array([[0.47403899, 0.52596101],\n       [0.4613585 , 0.5386415 ],\n       [0.4844331 , 0.5155669 ],\n       ...,\n       [0.55360528, 0.44639472],\n       [0.48848514, 0.51151486],\n       [0.48106599, 0.51893401]])"
     },
     "metadata": {},
     "execution_count": 8
    }
   ],
   "source": [
    "infection_prob = model.predict_proba(X_test)\n",
    "infection_prob"
   ]
  },
  {
   "cell_type": "markdown",
   "metadata": {},
   "source": [
    "### Saving the Model using Pickle"
   ]
  },
  {
   "cell_type": "code",
   "execution_count": 9,
   "metadata": {},
   "outputs": [],
   "source": [
    "import pickle\n",
    "\n",
    "model_name = 'covid_predict.sav'\n",
    "file = open(model_name,'wb')\n",
    "pickle.dump(model, file)\n",
    "file.close()"
   ]
  },
  {
   "cell_type": "code",
   "execution_count": null,
   "metadata": {},
   "outputs": [],
   "source": []
  }
 ]
}